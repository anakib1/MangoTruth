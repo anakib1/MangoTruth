{
 "cells": [
  {
   "cell_type": "code",
   "id": "initial_id",
   "metadata": {
    "collapsed": true,
    "ExecuteTime": {
     "end_time": "2024-11-20T08:22:22.225199Z",
     "start_time": "2024-11-20T08:22:19.476310Z"
    }
   },
   "source": [
    "from detectors.dna.config import BlackBoxDnaConfig, NGramsConfigGenerator\n",
    "from detectors.models.config import CompletionModelConfig\n",
    "from detectors.dna.model import BlackBoxDNADetector\n",
    "from pydantic import SecretStr\n",
    "import os\n",
    "import dotenv\n",
    "\n",
    "dotenv.load_dotenv()"
   ],
   "outputs": [
    {
     "data": {
      "text/plain": "True"
     },
     "execution_count": 1,
     "metadata": {},
     "output_type": "execute_result"
    }
   ],
   "execution_count": 1
  },
  {
   "metadata": {
    "ExecuteTime": {
     "end_time": "2024-11-20T08:23:29.211169Z",
     "start_time": "2024-11-20T08:23:28.935174Z"
    }
   },
   "cell_type": "code",
   "source": [
    "model_config = CompletionModelConfig(\n",
    "    api_key=SecretStr(os.getenv(\"OPENAI_API_KEY\")),\n",
    "    model_name=\"gpt-4o-mini\",\n",
    "    user_prompt=\"Complete the following sentences for a total of around {n_words} words:\",\n",
    "    system_prompt=\"You are a helpful assistant that continues the sentences provided.\",\n",
    "    temperature=0.5\n",
    ")\n",
    "\n",
    "ngrams_config = NGramsConfigGenerator()\n",
    "\"\"\"\n",
    "N_min=4,\n",
    "N_max=25,\n",
    "stemmer=PorterStemmer(),\n",
    "func=lambda n: n * math.log(n),\n",
    "stopwords=spacy.load(\"en_core_web_sm\").Defaults.stop_words\n",
    "\"\"\"\n",
    "\n",
    "blackbox_config = BlackBoxDnaConfig(\n",
    "    truncation=0.5,\n",
    "    K=10,\n",
    "    threshold=0.00025,\n",
    "    model_config=model_config,\n",
    "    ngrams_config=ngrams_config,\n",
    ")"
   ],
   "id": "f85324dfbe45d94c",
   "outputs": [],
   "execution_count": 3
  },
  {
   "metadata": {
    "ExecuteTime": {
     "end_time": "2024-11-20T08:23:49.900914Z",
     "start_time": "2024-11-20T08:23:49.858735Z"
    }
   },
   "cell_type": "code",
   "source": [
    "detector = BlackBoxDNADetector(blackbox_config)"
   ],
   "id": "26fb07a004dc5a25",
   "outputs": [],
   "execution_count": 6
  },
  {
   "metadata": {
    "ExecuteTime": {
     "end_time": "2024-11-20T08:23:50.795665Z",
     "start_time": "2024-11-20T08:23:50.269474Z"
    }
   },
   "cell_type": "code",
   "source": [
    "from datasets import load_dataset"
   ],
   "id": "cd9e162e6218b004",
   "outputs": [],
   "execution_count": 7
  },
  {
   "metadata": {
    "ExecuteTime": {
     "end_time": "2024-11-20T08:23:54.913132Z",
     "start_time": "2024-11-20T08:23:51.444422Z"
    }
   },
   "cell_type": "code",
   "source": [
    "xlsum = load_dataset('anakib1/mango-truth', 'xlsum')"
   ],
   "id": "d7ee4dd2a4bae089",
   "outputs": [],
   "execution_count": 8
  },
  {
   "metadata": {
    "ExecuteTime": {
     "end_time": "2024-11-20T08:23:54.919792Z",
     "start_time": "2024-11-20T08:23:54.914503Z"
    }
   },
   "cell_type": "code",
   "source": [
    "xlsum = xlsum.remove_columns([\"prompt\", \"user_id\"])"
   ],
   "id": "820c31b25514a9e0",
   "outputs": [],
   "execution_count": 9
  },
  {
   "metadata": {
    "ExecuteTime": {
     "end_time": "2024-11-20T08:24:10.477774Z",
     "start_time": "2024-11-20T08:23:54.921083Z"
    }
   },
   "cell_type": "code",
   "source": [
    "from tqdm import tqdm\n",
    "import random\n",
    "\n",
    "y_true, y_pred = [], []\n",
    "\n",
    "for _ in tqdm(range(100)):\n",
    "    i = random.randint(0, len(xlsum[\"train\"]) - 1)\n",
    "    proba = detector.predict_proba(xlsum[\"train\"][i][\"output\"])\n",
    "    y_true.append(1 if xlsum[\"train\"][i][\"label\"] else 0)\n",
    "    y_pred.append(proba[1])"
   ],
   "id": "a039cacfe918e90b",
   "outputs": [
    {
     "name": "stderr",
     "output_type": "stream",
     "text": [
      "  3%|▎         | 3/100 [00:15<08:13,  5.08s/it]\n"
     ]
    },
    {
     "ename": "KeyboardInterrupt",
     "evalue": "",
     "output_type": "error",
     "traceback": [
      "\u001B[0;31m---------------------------------------------------------------------------\u001B[0m",
      "\u001B[0;31mKeyboardInterrupt\u001B[0m                         Traceback (most recent call last)",
      "Cell \u001B[0;32mIn[10], line 8\u001B[0m\n\u001B[1;32m      6\u001B[0m \u001B[38;5;28;01mfor\u001B[39;00m _ \u001B[38;5;129;01min\u001B[39;00m tqdm(\u001B[38;5;28mrange\u001B[39m(\u001B[38;5;241m100\u001B[39m)):\n\u001B[1;32m      7\u001B[0m     i \u001B[38;5;241m=\u001B[39m random\u001B[38;5;241m.\u001B[39mrandint(\u001B[38;5;241m0\u001B[39m, \u001B[38;5;28mlen\u001B[39m(xlsum[\u001B[38;5;124m\"\u001B[39m\u001B[38;5;124mtrain\u001B[39m\u001B[38;5;124m\"\u001B[39m]) \u001B[38;5;241m-\u001B[39m \u001B[38;5;241m1\u001B[39m)\n\u001B[0;32m----> 8\u001B[0m     proba \u001B[38;5;241m=\u001B[39m \u001B[43mdetector\u001B[49m\u001B[38;5;241;43m.\u001B[39;49m\u001B[43mpredict_proba\u001B[49m\u001B[43m(\u001B[49m\u001B[43mxlsum\u001B[49m\u001B[43m[\u001B[49m\u001B[38;5;124;43m\"\u001B[39;49m\u001B[38;5;124;43mtrain\u001B[39;49m\u001B[38;5;124;43m\"\u001B[39;49m\u001B[43m]\u001B[49m\u001B[43m[\u001B[49m\u001B[43mi\u001B[49m\u001B[43m]\u001B[49m\u001B[43m[\u001B[49m\u001B[38;5;124;43m\"\u001B[39;49m\u001B[38;5;124;43moutput\u001B[39;49m\u001B[38;5;124;43m\"\u001B[39;49m\u001B[43m]\u001B[49m\u001B[43m)\u001B[49m\n\u001B[1;32m      9\u001B[0m     y_true\u001B[38;5;241m.\u001B[39mappend(\u001B[38;5;241m1\u001B[39m \u001B[38;5;28;01mif\u001B[39;00m xlsum[\u001B[38;5;124m\"\u001B[39m\u001B[38;5;124mtrain\u001B[39m\u001B[38;5;124m\"\u001B[39m][i][\u001B[38;5;124m\"\u001B[39m\u001B[38;5;124mlabel\u001B[39m\u001B[38;5;124m\"\u001B[39m] \u001B[38;5;28;01melse\u001B[39;00m \u001B[38;5;241m0\u001B[39m)\n\u001B[1;32m     10\u001B[0m     y_pred\u001B[38;5;241m.\u001B[39mappend(proba[\u001B[38;5;241m1\u001B[39m])\n",
      "File \u001B[0;32m~/GolandProjects/MangoTruth/detectors/dna/model.py:29\u001B[0m, in \u001B[0;36mBlackBoxDNADetector.predict_proba\u001B[0;34m(self, text)\u001B[0m\n\u001B[1;32m     28\u001B[0m \u001B[38;5;28;01mdef\u001B[39;00m \u001B[38;5;21mpredict_proba\u001B[39m(\u001B[38;5;28mself\u001B[39m, text: \u001B[38;5;28mstr\u001B[39m) \u001B[38;5;241m-\u001B[39m\u001B[38;5;241m>\u001B[39m np\u001B[38;5;241m.\u001B[39marray:\n\u001B[0;32m---> 29\u001B[0m     metric \u001B[38;5;241m=\u001B[39m \u001B[38;5;28;43mself\u001B[39;49m\u001B[38;5;241;43m.\u001B[39;49m\u001B[43mcalculate_bscore\u001B[49m\u001B[43m(\u001B[49m\u001B[43mtext\u001B[49m\u001B[43m)\u001B[49m\n\u001B[1;32m     30\u001B[0m     \u001B[38;5;28;01mif\u001B[39;00m metric \u001B[38;5;241m>\u001B[39m \u001B[38;5;28mself\u001B[39m\u001B[38;5;241m.\u001B[39mconfig\u001B[38;5;241m.\u001B[39mthreshold:\n\u001B[1;32m     31\u001B[0m         \u001B[38;5;28;01mreturn\u001B[39;00m np\u001B[38;5;241m.\u001B[39marray([\u001B[38;5;241m0.0\u001B[39m, \u001B[38;5;241m1.0\u001B[39m])\n",
      "File \u001B[0;32m~/GolandProjects/MangoTruth/detectors/dna/model.py:24\u001B[0m, in \u001B[0;36mBlackBoxDNADetector.calculate_bscore\u001B[0;34m(self, text)\u001B[0m\n\u001B[1;32m     22\u001B[0m divider_num \u001B[38;5;241m=\u001B[39m \u001B[38;5;28mint\u001B[39m(\u001B[38;5;28mlen\u001B[39m(words) \u001B[38;5;241m*\u001B[39m (\u001B[38;5;241m1\u001B[39m \u001B[38;5;241m-\u001B[39m \u001B[38;5;28mself\u001B[39m\u001B[38;5;241m.\u001B[39mconfig\u001B[38;5;241m.\u001B[39mtruncation))\n\u001B[1;32m     23\u001B[0m beginning, X_ending \u001B[38;5;241m=\u001B[39m \u001B[38;5;124m\"\u001B[39m\u001B[38;5;124m \u001B[39m\u001B[38;5;124m\"\u001B[39m\u001B[38;5;241m.\u001B[39mjoin(words[:divider_num]), \u001B[38;5;124m\"\u001B[39m\u001B[38;5;124m \u001B[39m\u001B[38;5;124m\"\u001B[39m\u001B[38;5;241m.\u001B[39mjoin(words[divider_num:])\n\u001B[0;32m---> 24\u001B[0m Y_endings \u001B[38;5;241m=\u001B[39m \u001B[38;5;28;43mself\u001B[39;49m\u001B[38;5;241;43m.\u001B[39;49m\u001B[43mmodel\u001B[49m\u001B[38;5;241;43m.\u001B[39;49m\u001B[43mcomplete_texts\u001B[49m\u001B[43m(\u001B[49m\u001B[43m[\u001B[49m\u001B[43mbeginning\u001B[49m\u001B[43m]\u001B[49m\u001B[43m \u001B[49m\u001B[38;5;241;43m*\u001B[39;49m\u001B[43m \u001B[49m\u001B[38;5;28;43mself\u001B[39;49m\u001B[38;5;241;43m.\u001B[39;49m\u001B[43mconfig\u001B[49m\u001B[38;5;241;43m.\u001B[39;49m\u001B[43mK\u001B[49m\u001B[43m,\u001B[49m\u001B[43m \u001B[49m\u001B[38;5;28;43;01mFalse\u001B[39;49;00m\u001B[43m,\u001B[49m\u001B[43m \u001B[49m\u001B[43mn_words\u001B[49m\u001B[38;5;241;43m=\u001B[39;49m\u001B[43m[\u001B[49m\u001B[38;5;28;43mlen\u001B[39;49m\u001B[43m(\u001B[49m\u001B[43mwords\u001B[49m\u001B[43m)\u001B[49m\u001B[43m]\u001B[49m\u001B[43m \u001B[49m\u001B[38;5;241;43m*\u001B[39;49m\u001B[43m \u001B[49m\u001B[38;5;28;43mself\u001B[39;49m\u001B[38;5;241;43m.\u001B[39;49m\u001B[43mconfig\u001B[49m\u001B[38;5;241;43m.\u001B[39;49m\u001B[43mK\u001B[49m\u001B[43m)\u001B[49m\n\u001B[1;32m     25\u001B[0m metric \u001B[38;5;241m=\u001B[39m \u001B[38;5;28mself\u001B[39m\u001B[38;5;241m.\u001B[39mngrams_processor\u001B[38;5;241m.\u001B[39mcalculate_metric(X_ending, Y_endings)\n\u001B[1;32m     26\u001B[0m \u001B[38;5;28;01mreturn\u001B[39;00m metric\n",
      "File \u001B[0;32m~/GolandProjects/MangoTruth/detectors/models/completion.py:37\u001B[0m, in \u001B[0;36mLangchainCompletionModel.complete_texts\u001B[0;34m(self, prefixes, predict_log_proba, n_words)\u001B[0m\n\u001B[1;32m     35\u001B[0m \u001B[38;5;28;01mif\u001B[39;00m predict_log_proba:\n\u001B[1;32m     36\u001B[0m     \u001B[38;5;28;01mraise\u001B[39;00m \u001B[38;5;167;01mTypeError\u001B[39;00m(\u001B[38;5;124m\"\u001B[39m\u001B[38;5;124mpredict_log_proba can not be implemented in CompletionLanguageModel\u001B[39m\u001B[38;5;124m\"\u001B[39m)\n\u001B[0;32m---> 37\u001B[0m responses \u001B[38;5;241m=\u001B[39m \u001B[38;5;28;43mself\u001B[39;49m\u001B[38;5;241;43m.\u001B[39;49m\u001B[43m_batched_text_completion\u001B[49m\u001B[43m(\u001B[49m\u001B[43mprefixes\u001B[49m\u001B[43m)\u001B[49m\n\u001B[1;32m     38\u001B[0m \u001B[38;5;28;01mreturn\u001B[39;00m responses\n",
      "File \u001B[0;32m~/GolandProjects/MangoTruth/detectors/models/completion.py:27\u001B[0m, in \u001B[0;36mLangchainCompletionModel._batched_text_completion\u001B[0;34m(self, prefixes)\u001B[0m\n\u001B[1;32m     19\u001B[0m     user_prompt \u001B[38;5;241m=\u001B[39m user_prompt\u001B[38;5;241m.\u001B[39mformat(n_words\u001B[38;5;241m=\u001B[39m\u001B[38;5;28mlen\u001B[39m(prefixes))\n\u001B[1;32m     20\u001B[0m prompts \u001B[38;5;241m=\u001B[39m [\n\u001B[1;32m     21\u001B[0m     [\n\u001B[1;32m     22\u001B[0m         {\u001B[38;5;124m\"\u001B[39m\u001B[38;5;124mrole\u001B[39m\u001B[38;5;124m\"\u001B[39m: \u001B[38;5;124m\"\u001B[39m\u001B[38;5;124msystem\u001B[39m\u001B[38;5;124m\"\u001B[39m, \u001B[38;5;124m\"\u001B[39m\u001B[38;5;124mcontent\u001B[39m\u001B[38;5;124m\"\u001B[39m: \u001B[38;5;28mself\u001B[39m\u001B[38;5;241m.\u001B[39mconfig\u001B[38;5;241m.\u001B[39msystem_prompt},\n\u001B[0;32m   (...)\u001B[0m\n\u001B[1;32m     25\u001B[0m     \u001B[38;5;28;01mfor\u001B[39;00m prefix \u001B[38;5;129;01min\u001B[39;00m prefixes\n\u001B[1;32m     26\u001B[0m ]\n\u001B[0;32m---> 27\u001B[0m messages \u001B[38;5;241m=\u001B[39m \u001B[38;5;28;43mself\u001B[39;49m\u001B[38;5;241;43m.\u001B[39;49m\u001B[43mclient\u001B[49m\u001B[38;5;241;43m.\u001B[39;49m\u001B[43mbatch\u001B[49m\u001B[43m(\u001B[49m\u001B[43mprompts\u001B[49m\u001B[43m)\u001B[49m\n\u001B[1;32m     28\u001B[0m answers \u001B[38;5;241m=\u001B[39m [\n\u001B[1;32m     29\u001B[0m     message\u001B[38;5;241m.\u001B[39mcontent\n\u001B[1;32m     30\u001B[0m     \u001B[38;5;28;01mfor\u001B[39;00m message \u001B[38;5;129;01min\u001B[39;00m messages\n\u001B[1;32m     31\u001B[0m ]\n\u001B[1;32m     32\u001B[0m \u001B[38;5;28;01mreturn\u001B[39;00m answers\n",
      "File \u001B[0;32m~/anaconda3/envs/knu/lib/python3.11/site-packages/langchain_core/runnables/base.py:791\u001B[0m, in \u001B[0;36mRunnable.batch\u001B[0;34m(self, inputs, config, return_exceptions, **kwargs)\u001B[0m\n\u001B[1;32m    788\u001B[0m     \u001B[38;5;28;01mreturn\u001B[39;00m cast(\u001B[38;5;28mlist\u001B[39m[Output], [invoke(inputs[\u001B[38;5;241m0\u001B[39m], configs[\u001B[38;5;241m0\u001B[39m])])\n\u001B[1;32m    790\u001B[0m \u001B[38;5;28;01mwith\u001B[39;00m get_executor_for_config(configs[\u001B[38;5;241m0\u001B[39m]) \u001B[38;5;28;01mas\u001B[39;00m executor:\n\u001B[0;32m--> 791\u001B[0m     \u001B[38;5;28;01mreturn\u001B[39;00m cast(\u001B[38;5;28mlist\u001B[39m[Output], \u001B[38;5;28;43mlist\u001B[39;49m\u001B[43m(\u001B[49m\u001B[43mexecutor\u001B[49m\u001B[38;5;241;43m.\u001B[39;49m\u001B[43mmap\u001B[49m\u001B[43m(\u001B[49m\u001B[43minvoke\u001B[49m\u001B[43m,\u001B[49m\u001B[43m \u001B[49m\u001B[43minputs\u001B[49m\u001B[43m,\u001B[49m\u001B[43m \u001B[49m\u001B[43mconfigs\u001B[49m\u001B[43m)\u001B[49m\u001B[43m)\u001B[49m)\n",
      "File \u001B[0;32m~/anaconda3/envs/knu/lib/python3.11/concurrent/futures/_base.py:619\u001B[0m, in \u001B[0;36mExecutor.map.<locals>.result_iterator\u001B[0;34m()\u001B[0m\n\u001B[1;32m    616\u001B[0m \u001B[38;5;28;01mwhile\u001B[39;00m fs:\n\u001B[1;32m    617\u001B[0m     \u001B[38;5;66;03m# Careful not to keep a reference to the popped future\u001B[39;00m\n\u001B[1;32m    618\u001B[0m     \u001B[38;5;28;01mif\u001B[39;00m timeout \u001B[38;5;129;01mis\u001B[39;00m \u001B[38;5;28;01mNone\u001B[39;00m:\n\u001B[0;32m--> 619\u001B[0m         \u001B[38;5;28;01myield\u001B[39;00m \u001B[43m_result_or_cancel\u001B[49m\u001B[43m(\u001B[49m\u001B[43mfs\u001B[49m\u001B[38;5;241;43m.\u001B[39;49m\u001B[43mpop\u001B[49m\u001B[43m(\u001B[49m\u001B[43m)\u001B[49m\u001B[43m)\u001B[49m\n\u001B[1;32m    620\u001B[0m     \u001B[38;5;28;01melse\u001B[39;00m:\n\u001B[1;32m    621\u001B[0m         \u001B[38;5;28;01myield\u001B[39;00m _result_or_cancel(fs\u001B[38;5;241m.\u001B[39mpop(), end_time \u001B[38;5;241m-\u001B[39m time\u001B[38;5;241m.\u001B[39mmonotonic())\n",
      "File \u001B[0;32m~/anaconda3/envs/knu/lib/python3.11/concurrent/futures/_base.py:317\u001B[0m, in \u001B[0;36m_result_or_cancel\u001B[0;34m(***failed resolving arguments***)\u001B[0m\n\u001B[1;32m    315\u001B[0m \u001B[38;5;28;01mtry\u001B[39;00m:\n\u001B[1;32m    316\u001B[0m     \u001B[38;5;28;01mtry\u001B[39;00m:\n\u001B[0;32m--> 317\u001B[0m         \u001B[38;5;28;01mreturn\u001B[39;00m \u001B[43mfut\u001B[49m\u001B[38;5;241;43m.\u001B[39;49m\u001B[43mresult\u001B[49m\u001B[43m(\u001B[49m\u001B[43mtimeout\u001B[49m\u001B[43m)\u001B[49m\n\u001B[1;32m    318\u001B[0m     \u001B[38;5;28;01mfinally\u001B[39;00m:\n\u001B[1;32m    319\u001B[0m         fut\u001B[38;5;241m.\u001B[39mcancel()\n",
      "File \u001B[0;32m~/anaconda3/envs/knu/lib/python3.11/concurrent/futures/_base.py:451\u001B[0m, in \u001B[0;36mFuture.result\u001B[0;34m(self, timeout)\u001B[0m\n\u001B[1;32m    448\u001B[0m \u001B[38;5;28;01melif\u001B[39;00m \u001B[38;5;28mself\u001B[39m\u001B[38;5;241m.\u001B[39m_state \u001B[38;5;241m==\u001B[39m FINISHED:\n\u001B[1;32m    449\u001B[0m     \u001B[38;5;28;01mreturn\u001B[39;00m \u001B[38;5;28mself\u001B[39m\u001B[38;5;241m.\u001B[39m__get_result()\n\u001B[0;32m--> 451\u001B[0m \u001B[38;5;28;43mself\u001B[39;49m\u001B[38;5;241;43m.\u001B[39;49m\u001B[43m_condition\u001B[49m\u001B[38;5;241;43m.\u001B[39;49m\u001B[43mwait\u001B[49m\u001B[43m(\u001B[49m\u001B[43mtimeout\u001B[49m\u001B[43m)\u001B[49m\n\u001B[1;32m    453\u001B[0m \u001B[38;5;28;01mif\u001B[39;00m \u001B[38;5;28mself\u001B[39m\u001B[38;5;241m.\u001B[39m_state \u001B[38;5;129;01min\u001B[39;00m [CANCELLED, CANCELLED_AND_NOTIFIED]:\n\u001B[1;32m    454\u001B[0m     \u001B[38;5;28;01mraise\u001B[39;00m CancelledError()\n",
      "File \u001B[0;32m~/anaconda3/envs/knu/lib/python3.11/threading.py:327\u001B[0m, in \u001B[0;36mCondition.wait\u001B[0;34m(self, timeout)\u001B[0m\n\u001B[1;32m    325\u001B[0m \u001B[38;5;28;01mtry\u001B[39;00m:    \u001B[38;5;66;03m# restore state no matter what (e.g., KeyboardInterrupt)\u001B[39;00m\n\u001B[1;32m    326\u001B[0m     \u001B[38;5;28;01mif\u001B[39;00m timeout \u001B[38;5;129;01mis\u001B[39;00m \u001B[38;5;28;01mNone\u001B[39;00m:\n\u001B[0;32m--> 327\u001B[0m         \u001B[43mwaiter\u001B[49m\u001B[38;5;241;43m.\u001B[39;49m\u001B[43macquire\u001B[49m\u001B[43m(\u001B[49m\u001B[43m)\u001B[49m\n\u001B[1;32m    328\u001B[0m         gotit \u001B[38;5;241m=\u001B[39m \u001B[38;5;28;01mTrue\u001B[39;00m\n\u001B[1;32m    329\u001B[0m     \u001B[38;5;28;01melse\u001B[39;00m:\n",
      "\u001B[0;31mKeyboardInterrupt\u001B[0m: "
     ]
    }
   ],
   "execution_count": 10
  },
  {
   "metadata": {
    "ExecuteTime": {
     "start_time": "2024-11-20T08:24:10.476735Z"
    }
   },
   "cell_type": "code",
   "source": [
    "from detectors.utils.training import calculate_classification\n",
    "import numpy as np\n",
    "\n",
    "calculate_classification(np.array(y_true), np.array(y_pred))"
   ],
   "id": "3e45de74d7eb75f4",
   "outputs": [],
   "execution_count": null
  },
  {
   "metadata": {
    "ExecuteTime": {
     "end_time": "2024-11-20T08:25:01.684527Z",
     "start_time": "2024-11-20T08:25:00.472124Z"
    }
   },
   "cell_type": "code",
   "outputs": [
    {
     "data": {
      "text/plain": "array([0., 1.])"
     },
     "execution_count": 15,
     "metadata": {},
     "output_type": "execute_result"
    }
   ],
   "execution_count": 15,
   "source": [
    "detector.predict_proba('Ми зредукували задачу SUBSET-SUM до задачі цілочисельного лінійного програмування (CLP), показавши, що будь-який екземпляр SUBSET-SUM може бути записаний у вигляді системи лінійних нерівностей. Це доводить, що CLP є щонайменше NP-складною, оскільки SUBSET-SUM відома як NP-повна задача.')"
   ],
   "id": "405ff3f7cc6e76c"
  },
  {
   "cell_type": "code",
   "outputs": [
    {
     "data": {
      "text/plain": "['Human', 'AI']"
     },
     "execution_count": 14,
     "metadata": {},
     "output_type": "execute_result"
    }
   ],
   "source": [
    "detector.get_labels()"
   ],
   "metadata": {
    "collapsed": false,
    "ExecuteTime": {
     "end_time": "2024-11-20T08:24:40.535132Z",
     "start_time": "2024-11-20T08:24:40.530407Z"
    }
   },
   "id": "2b8ec383886b59f1",
   "execution_count": 14
  },
  {
   "cell_type": "code",
   "outputs": [],
   "source": [],
   "metadata": {
    "collapsed": false
   },
   "id": "987027f72e1e357f"
  }
 ],
 "metadata": {
  "kernelspec": {
   "display_name": "Python 3",
   "language": "python",
   "name": "python3"
  },
  "language_info": {
   "codemirror_mode": {
    "name": "ipython",
    "version": 2
   },
   "file_extension": ".py",
   "mimetype": "text/x-python",
   "name": "python",
   "nbconvert_exporter": "python",
   "pygments_lexer": "ipython2",
   "version": "2.7.6"
  }
 },
 "nbformat": 4,
 "nbformat_minor": 5
}
