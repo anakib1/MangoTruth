{
 "cells": [
  {
   "cell_type": "code",
   "id": "initial_id",
   "metadata": {
    "collapsed": true,
    "ExecuteTime": {
     "end_time": "2024-11-19T16:08:00.773679Z",
     "start_time": "2024-11-19T16:07:58.933601Z"
    }
   },
   "source": [
    "from dna.config import BlackBoxDnaConfig, NGramsConfigGenerator\n",
    "from models.config import CompletionModelConfig\n",
    "from dna.model import BlackBoxDNADetector\n",
    "from pydantic import SecretStr\n",
    "import os\n",
    "import dotenv\n",
    "\n",
    "dotenv.load_dotenv()"
   ],
   "outputs": [
    {
     "data": {
      "text/plain": [
       "True"
      ]
     },
     "execution_count": 1,
     "metadata": {},
     "output_type": "execute_result"
    }
   ],
   "execution_count": 1
  },
  {
   "metadata": {
    "ExecuteTime": {
     "end_time": "2024-11-19T16:08:01.778610Z",
     "start_time": "2024-11-19T16:08:01.269915Z"
    }
   },
   "cell_type": "code",
   "source": [
    "model_config = CompletionModelConfig(\n",
    "    api_key=SecretStr(os.getenv(\"OPENAI_API_KEY\")),\n",
    "    model_name=\"gpt-4o\",\n",
    "    user_prompt=\"Complete the following sentences for a total of around {n_words} words:\",\n",
    "    system_prompt=\"You are a helpful assistant that continues the sentences provided.\",\n",
    "    temperature=0.5\n",
    ")\n",
    "\n",
    "ngrams_config = NGramsConfigGenerator()\n",
    "\"\"\"\n",
    "N_min=4,\n",
    "N_max=25,\n",
    "stemmer=PorterStemmer(),\n",
    "func=lambda n: n * math.log(n),\n",
    "stopwords=spacy.load(\"en_core_web_sm\").Defaults.stop_words\n",
    "\"\"\"\n",
    "\n",
    "blackbox_config = BlackBoxDnaConfig(\n",
    "    truncation=0.5,\n",
    "    K=3,\n",
    "    threshold=0.00025,\n",
    "    model_config=model_config,\n",
    "    ngrams_config=ngrams_config,\n",
    ")"
   ],
   "id": "f85324dfbe45d94c",
   "outputs": [],
   "execution_count": 2
  },
  {
   "metadata": {
    "ExecuteTime": {
     "end_time": "2024-11-19T16:08:02.287421Z",
     "start_time": "2024-11-19T16:08:02.227300Z"
    }
   },
   "cell_type": "code",
   "source": "detector = BlackBoxDNADetector(blackbox_config)",
   "id": "26fb07a004dc5a25",
   "outputs": [],
   "execution_count": 3
  },
  {
   "metadata": {
    "ExecuteTime": {
     "end_time": "2024-11-19T16:08:03.592594Z",
     "start_time": "2024-11-19T16:08:02.848885Z"
    }
   },
   "cell_type": "code",
   "source": "from datasets import load_dataset",
   "id": "cd9e162e6218b004",
   "outputs": [
    {
     "name": "stderr",
     "output_type": "stream",
     "text": [
      "/opt/anaconda3/envs/MangoTruth/lib/python3.12/site-packages/tqdm/auto.py:21: TqdmWarning: IProgress not found. Please update jupyter and ipywidgets. See https://ipywidgets.readthedocs.io/en/stable/user_install.html\n",
      "  from .autonotebook import tqdm as notebook_tqdm\n"
     ]
    }
   ],
   "execution_count": 4
  },
  {
   "metadata": {
    "ExecuteTime": {
     "end_time": "2024-11-19T16:08:06.758767Z",
     "start_time": "2024-11-19T16:08:03.741173Z"
    }
   },
   "cell_type": "code",
   "source": "xlsum = load_dataset('anakib1/mango-truth', 'xlsum')",
   "id": "d7ee4dd2a4bae089",
   "outputs": [],
   "execution_count": 5
  },
  {
   "metadata": {
    "ExecuteTime": {
     "end_time": "2024-11-19T16:08:06.771383Z",
     "start_time": "2024-11-19T16:08:06.764122Z"
    }
   },
   "cell_type": "code",
   "source": "xlsum = xlsum.remove_columns([\"prompt\", \"user_id\"])",
   "id": "820c31b25514a9e0",
   "outputs": [],
   "execution_count": 6
  },
  {
   "metadata": {
    "ExecuteTime": {
     "end_time": "2024-11-19T16:17:53.243766Z",
     "start_time": "2024-11-19T16:16:42.233039Z"
    }
   },
   "cell_type": "code",
   "source": [
    "from tqdm import tqdm\n",
    "import random\n",
    "\n",
    "lst = []\n",
    "\n",
    "for _ in tqdm(range(100)):\n",
    "    i = random.randint(0, len(xlsum[\"train\"]) - 1)\n",
    "    score = detector.calculate_bscore(xlsum[\"train\"][i][\"output\"])\n",
    "    lst.append((xlsum[\"train\"][i][\"label\"], score))"
   ],
   "id": "a039cacfe918e90b",
   "outputs": [
    {
     "name": "stderr",
     "output_type": "stream",
     "text": [
      " 11%|█         | 11/100 [01:10<09:33,  6.45s/it]\n"
     ]
    },
    {
     "ename": "ZeroDivisionError",
     "evalue": "float division by zero",
     "output_type": "error",
     "traceback": [
      "\u001B[0;31m---------------------------------------------------------------------------\u001B[0m",
      "\u001B[0;31mZeroDivisionError\u001B[0m                         Traceback (most recent call last)",
      "Cell \u001B[0;32mIn[14], line 8\u001B[0m\n\u001B[1;32m      6\u001B[0m \u001B[38;5;28;01mfor\u001B[39;00m _ \u001B[38;5;129;01min\u001B[39;00m tqdm(\u001B[38;5;28mrange\u001B[39m(\u001B[38;5;241m100\u001B[39m)):\n\u001B[1;32m      7\u001B[0m     i \u001B[38;5;241m=\u001B[39m random\u001B[38;5;241m.\u001B[39mrandint(\u001B[38;5;241m0\u001B[39m, \u001B[38;5;28mlen\u001B[39m(xlsum[\u001B[38;5;124m\"\u001B[39m\u001B[38;5;124mtrain\u001B[39m\u001B[38;5;124m\"\u001B[39m]) \u001B[38;5;241m-\u001B[39m \u001B[38;5;241m1\u001B[39m)\n\u001B[0;32m----> 8\u001B[0m     score \u001B[38;5;241m=\u001B[39m detector\u001B[38;5;241m.\u001B[39mcalculate_bscore(xlsum[\u001B[38;5;124m\"\u001B[39m\u001B[38;5;124mtrain\u001B[39m\u001B[38;5;124m\"\u001B[39m][i][\u001B[38;5;124m\"\u001B[39m\u001B[38;5;124moutput\u001B[39m\u001B[38;5;124m\"\u001B[39m])\n\u001B[1;32m      9\u001B[0m     lst\u001B[38;5;241m.\u001B[39mappend((xlsum[\u001B[38;5;124m\"\u001B[39m\u001B[38;5;124mtrain\u001B[39m\u001B[38;5;124m\"\u001B[39m][i][\u001B[38;5;124m\"\u001B[39m\u001B[38;5;124mlabel\u001B[39m\u001B[38;5;124m\"\u001B[39m], score))\n",
      "File \u001B[0;32m~/PycharmProjects/MangoTruth/detectors/dna/model.py:25\u001B[0m, in \u001B[0;36mBlackBoxDNADetector.calculate_bscore\u001B[0;34m(self, text)\u001B[0m\n\u001B[1;32m     23\u001B[0m beginning, X_ending \u001B[38;5;241m=\u001B[39m \u001B[38;5;124m\"\u001B[39m\u001B[38;5;124m \u001B[39m\u001B[38;5;124m\"\u001B[39m\u001B[38;5;241m.\u001B[39mjoin(words[:divider_num]), \u001B[38;5;124m\"\u001B[39m\u001B[38;5;124m \u001B[39m\u001B[38;5;124m\"\u001B[39m\u001B[38;5;241m.\u001B[39mjoin(words[divider_num:])\n\u001B[1;32m     24\u001B[0m Y_endings \u001B[38;5;241m=\u001B[39m \u001B[38;5;28mself\u001B[39m\u001B[38;5;241m.\u001B[39mmodel\u001B[38;5;241m.\u001B[39mcomplete_texts([beginning] \u001B[38;5;241m*\u001B[39m \u001B[38;5;28mself\u001B[39m\u001B[38;5;241m.\u001B[39mconfig\u001B[38;5;241m.\u001B[39mK, \u001B[38;5;28;01mFalse\u001B[39;00m, n_words\u001B[38;5;241m=\u001B[39m[\u001B[38;5;28mlen\u001B[39m(words)] \u001B[38;5;241m*\u001B[39m \u001B[38;5;28mself\u001B[39m\u001B[38;5;241m.\u001B[39mconfig\u001B[38;5;241m.\u001B[39mK)\n\u001B[0;32m---> 25\u001B[0m metric \u001B[38;5;241m=\u001B[39m \u001B[38;5;28mself\u001B[39m\u001B[38;5;241m.\u001B[39mngrams_processor\u001B[38;5;241m.\u001B[39mcalculate_metric(X_ending, Y_endings)\n\u001B[1;32m     26\u001B[0m \u001B[38;5;28;01mreturn\u001B[39;00m metric\n",
      "File \u001B[0;32m~/PycharmProjects/MangoTruth/detectors/dna/ngrams.py:69\u001B[0m, in \u001B[0;36mNGramsProcessor.calculate_metric\u001B[0;34m(self, X, Y)\u001B[0m\n\u001B[1;32m     67\u001B[0m     s \u001B[38;5;241m=\u001B[39m \u001B[38;5;241m0\u001B[39m\n\u001B[1;32m     68\u001B[0m     \u001B[38;5;28;01mfor\u001B[39;00m N_i \u001B[38;5;129;01min\u001B[39;00m \u001B[38;5;28mrange\u001B[39m(\u001B[38;5;28mself\u001B[39m\u001B[38;5;241m.\u001B[39mconfig\u001B[38;5;241m.\u001B[39mN_min, \u001B[38;5;28mself\u001B[39m\u001B[38;5;241m.\u001B[39mconfig\u001B[38;5;241m.\u001B[39mN_max \u001B[38;5;241m+\u001B[39m \u001B[38;5;241m1\u001B[39m):\n\u001B[0;32m---> 69\u001B[0m         s \u001B[38;5;241m+\u001B[39m\u001B[38;5;241m=\u001B[39m \u001B[38;5;28mself\u001B[39m\u001B[38;5;241m.\u001B[39mconfig\u001B[38;5;241m.\u001B[39mfunc(N_i) \u001B[38;5;241m*\u001B[39m \u001B[38;5;28mself\u001B[39m\u001B[38;5;241m.\u001B[39mget_ngrams_number(\u001B[38;5;28mself\u001B[39m\u001B[38;5;241m.\u001B[39mcalculate_intersection(ngrams_X[N_i \u001B[38;5;241m-\u001B[39m \u001B[38;5;28mself\u001B[39m\u001B[38;5;241m.\u001B[39mconfig\u001B[38;5;241m.\u001B[39mN_min], ngrams_Y[N_i \u001B[38;5;241m-\u001B[39m \u001B[38;5;28mself\u001B[39m\u001B[38;5;241m.\u001B[39mconfig\u001B[38;5;241m.\u001B[39mN_min])) \\\n\u001B[1;32m     70\u001B[0m              \u001B[38;5;241m/\u001B[39m length_k \u001B[38;5;241m/\u001B[39m \u001B[38;5;28mself\u001B[39m\u001B[38;5;241m.\u001B[39mget_ngrams_number(ngrams_X[N_i \u001B[38;5;241m-\u001B[39m \u001B[38;5;28mself\u001B[39m\u001B[38;5;241m.\u001B[39mconfig\u001B[38;5;241m.\u001B[39mN_min])\n\u001B[1;32m     71\u001B[0m     elems\u001B[38;5;241m.\u001B[39mappend(s)\n\u001B[1;32m     72\u001B[0m \u001B[38;5;28;01mreturn\u001B[39;00m \u001B[38;5;28msum\u001B[39m(elems) \u001B[38;5;241m/\u001B[39m K\n",
      "\u001B[0;31mZeroDivisionError\u001B[0m: float division by zero"
     ]
    }
   ],
   "execution_count": 14
  },
  {
   "metadata": {},
   "cell_type": "code",
   "outputs": [],
   "execution_count": null,
   "source": "",
   "id": "5f390c469f2665a8"
  }
 ],
 "metadata": {
  "kernelspec": {
   "display_name": "Python 3",
   "language": "python",
   "name": "python3"
  },
  "language_info": {
   "codemirror_mode": {
    "name": "ipython",
    "version": 2
   },
   "file_extension": ".py",
   "mimetype": "text/x-python",
   "name": "python",
   "nbconvert_exporter": "python",
   "pygments_lexer": "ipython2",
   "version": "2.7.6"
  }
 },
 "nbformat": 4,
 "nbformat_minor": 5
}
